{
  "nbformat": 4,
  "nbformat_minor": 0,
  "metadata": {
    "colab": {
      "provenance": [],
      "authorship_tag": "ABX9TyM0QMYwo2DrSLDkxKP6b9Ag",
      "include_colab_link": true
    },
    "kernelspec": {
      "name": "python3",
      "display_name": "Python 3"
    },
    "language_info": {
      "name": "python"
    }
  },
  "cells": [
    {
      "cell_type": "markdown",
      "metadata": {
        "id": "view-in-github",
        "colab_type": "text"
      },
      "source": [
        "<a href=\"https://colab.research.google.com/github/PosgradoMNA/actividades-del-projecto-equipo_81/blob/main/PF_1_Descripci%C3%B3n_Dataset.ipynb\" target=\"_parent\"><img src=\"https://colab.research.google.com/assets/colab-badge.svg\" alt=\"Open In Colab\"/></a>"
      ]
    },
    {
      "cell_type": "code",
      "execution_count": null,
      "metadata": {
        "id": "SAR-dLnhi0kT"
      },
      "outputs": [],
      "source": []
    },
    {
      "cell_type": "markdown",
      "source": [
        "**El nombre que caracteriza el conjunto de datos.**\n",
        "Weather Prediction\n",
        "\n",
        "**La organización que lo generó.**\n",
        "EUROPEAN CLIMATE ASSESSMENT & DATASET (ECA&D)\n",
        "\n",
        "**Incluya un enlace de Internet donde se puedan descargar el base de datos en línea**\n",
        "https://www.kaggle.com/datasets/thedevastator/weather-prediction?resource=download\n",
        "\n",
        "**Describe el conjunto de datos. ¿Qué datos contiene?**\n",
        "Contiene la información meteorologica diaria de 18 estacionaes de monitoreo en Europa y el Mediterraneo desde 2000 a 2010.\n",
        "La data contiene variables de temperatura, velocidad del viento, humedad, presión, radiación, luz.\n",
        "\n",
        "\n",
        "**¿Cuáles son algunas de las preguntas de investigación que podría responder con estos datos? Enumere al menos OCHO (no responda las preguntas).**\n",
        "1. Conocer la estacionalidad de lluvias en Europa\n",
        "2. Conocer la tendencia histórica de temperatura en Europa\n",
        "3. Identificar diferentes regiones según las lluvias en Europa\n",
        "4. Conocer la relación entre \"sunshine\" y las nubes\n",
        "5. Predicir la probabilidad de lluvia en base a humedad y nubosidad\n",
        "6. Cuál es la relación entre la radiación y nubosidad\n",
        "7. Diferencias de clima en relación a la distancia entre estaciones\n",
        "8. Diferencias de clima según las temporadas y ciudades\n",
        "\n",
        "**¿Qué actor (empresa, sector de la sociedad, organismo descentralizado, gobierno, etc.) estaría interesado en las preguntas mencionadas que identificó?**\n",
        "Agencias gubernamentales como Economía, Agricultura, Salud, Protección Civil.\n",
        "\n",
        "\n",
        "\n"
      ],
      "metadata": {
        "id": "6C8ckCbzjWbD"
      }
    }
  ]
}